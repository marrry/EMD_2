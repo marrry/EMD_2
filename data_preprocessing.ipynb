{
 "cells": [
  {
   "cell_type": "markdown",
   "metadata": {},
   "source": [
    "### Import libraries"
   ]
  },
  {
   "cell_type": "code",
   "execution_count": null,
   "metadata": {},
   "outputs": [],
   "source": [
    "import pandas as pd\n",
    "from nltk.tokenize import sent_tokenize, word_tokenize\n",
    "import copy"
   ]
  },
  {
   "cell_type": "markdown",
   "metadata": {},
   "source": [
    "### Read in datasets"
   ]
  },
  {
   "cell_type": "code",
   "execution_count": null,
   "metadata": {},
   "outputs": [],
   "source": [
    "train = pd.read_csv(\"train.csv\")\n",
    "test = pd.read_csv(\"test.csv\", dtype={'Id': object})"
   ]
  },
  {
   "cell_type": "code",
   "execution_count": null,
   "metadata": {},
   "outputs": [],
   "source": [
    "train.head(5)"
   ]
  },
  {
   "cell_type": "code",
   "execution_count": null,
   "metadata": {},
   "outputs": [],
   "source": [
    "test.head(5)"
   ]
  },
  {
   "cell_type": "markdown",
   "metadata": {},
   "source": [
    "### Basic statistics"
   ]
  },
  {
   "cell_type": "code",
   "execution_count": null,
   "metadata": {},
   "outputs": [],
   "source": [
    "len(train)"
   ]
  },
  {
   "cell_type": "code",
   "execution_count": null,
   "metadata": {},
   "outputs": [],
   "source": [
    "len(test)"
   ]
  },
  {
   "cell_type": "markdown",
   "metadata": {},
   "source": [
    "There are a lot of empty lines in test dataset. Let's remove them."
   ]
  },
  {
   "cell_type": "code",
   "execution_count": null,
   "metadata": {},
   "outputs": [],
   "source": [
    "test = test.dropna()"
   ]
  },
  {
   "cell_type": "code",
   "execution_count": null,
   "metadata": {},
   "outputs": [],
   "source": [
    "len(test)"
   ]
  },
  {
   "cell_type": "markdown",
   "metadata": {},
   "source": [
    "There are a lot of \"Not Available\" comments in both sets. Remove them from the training set. Comments from test dataset will be assigned to majority class among these comments."
   ]
  },
  {
   "cell_type": "code",
   "execution_count": null,
   "metadata": {},
   "outputs": [],
   "source": [
    "train_na = train[train.Tweet == 'Not Available']\n",
    "train = train[train.Tweet != 'Not Available']"
   ]
  },
  {
   "cell_type": "code",
   "execution_count": null,
   "metadata": {},
   "outputs": [],
   "source": [
    "len(train)"
   ]
  },
  {
   "cell_type": "code",
   "execution_count": null,
   "metadata": {},
   "outputs": [],
   "source": [
    "print(\"NA positive\", len(train_na[train_na.Category == \"positive\"]))\n",
    "print(\"NA neutral\", len(train_na[train_na.Category == \"neutral\"]))\n",
    "print(\"NA negative\", len(train_na[train_na.Category == \"negative\"]))"
   ]
  },
  {
   "cell_type": "markdown",
   "metadata": {},
   "source": [
    "Most of comments are positive, so test comments will be assigned to this class."
   ]
  },
  {
   "cell_type": "code",
   "execution_count": null,
   "metadata": {},
   "outputs": [],
   "source": [
    "train['Category'].value_counts()"
   ]
  },
  {
   "cell_type": "code",
   "execution_count": null,
   "metadata": {},
   "outputs": [],
   "source": [
    "train = train[train.Category != 'Tweet']\n",
    "train['Category'].value_counts()"
   ]
  },
  {
   "cell_type": "markdown",
   "metadata": {},
   "source": [
    "### Comments cleaning"
   ]
  },
  {
   "cell_type": "code",
   "execution_count": null,
   "metadata": {},
   "outputs": [],
   "source": [
    "def remove_unwanted(wordlist):\n",
    "    '''Removes from wordlist links and @ tags'''\n",
    "    for i, word in reversed(list(enumerate(wordlist))):\n",
    "        if word.startswith('@'):\n",
    "            #del wordlist[i+1]\n",
    "            del wordlist[i]\n",
    "        if word.startswith('http') or word.startswith('www'):\n",
    "            #del wordlist[i+1]\n",
    "            del wordlist[i]\n",
    "    return wordlist\n",
    "\n",
    "def clean_comments(train_dataset):\n",
    "    \n",
    "    train_cleaned = copy.deepcopy(train_dataset)\n",
    "    print(\"Copied\")\n",
    "    \n",
    "    # split text into list of words\n",
    "    train_cleaned['splited'] = train_cleaned.apply(lambda row: row['Tweet'].split(), axis=1)\n",
    "    #train_cleaned['splited'] = train_cleaned.apply(lambda row: word_tokenize(row['Tweet']), axis=1)\n",
    "    print(\"Splited\")\n",
    "    \n",
    "    # Cleaning words from links and tags\n",
    "    train_cleaned['cleaned'] = train_cleaned.apply(lambda row: remove_unwanted(row['splited']), axis=1)\n",
    "    print(\"Cleaned\")\n",
    "    \n",
    "    # Merging splited words from list to string\n",
    "    train_cleaned['cleaned_string'] = train_cleaned.apply(lambda row: ' '.join(row['splited']), axis=1)\n",
    "    print(\"Joined\")\n",
    "    \n",
    "    #train_cleaned['tokenized'] = train_cleaned.apply(lambda row: word_tokenize(row['cleaned_string']), axis=1)\n",
    "    #train_cleaned['ready'] = train_cleaned.apply(lambda row: ' '.join(row['tokenized']), axis=1)\n",
    "    \n",
    "    #Get 'empty' comments - which probably doesn't mean anything\n",
    "    empties = train_cleaned.loc[train_cleaned['cleaned_string']=='']\n",
    "    \n",
    "    #Remove these empty comments from set\n",
    "    train_cleaned = train_cleaned.drop(empties.index)\n",
    "    print(\"Deleted empties\")\n",
    "    \n",
    "    return train_cleaned\n",
    "\n",
    "def clean_test(train_dataset):\n",
    "    \n",
    "    train_cleaned = copy.deepcopy(train_dataset)\n",
    "    print(\"Copied\")\n",
    "    \n",
    "    # split text into list of words\n",
    "    train_cleaned['splited'] = train_cleaned.apply(lambda row: row['Tweet'].split(), axis=1)\n",
    "    #train_cleaned['splited'] = train_cleaned.apply(lambda row: word_tokenize(row['Tweet']), axis=1)\n",
    "    print(\"Splited\")\n",
    "    \n",
    "    # Cleaning words from links and tags\n",
    "    train_cleaned['cleaned'] = train_cleaned.apply(lambda row: remove_unwanted(row['splited']), axis=1)\n",
    "    print(\"Cleaned\")\n",
    "    \n",
    "    # Merging splited words from list to string\n",
    "    train_cleaned['cleaned_string'] = train_cleaned.apply(lambda row: ' '.join(row['splited']), axis=1)\n",
    "    print(\"Joined\")\n",
    "    \n",
    "    return train_cleaned"
   ]
  },
  {
   "cell_type": "code",
   "execution_count": null,
   "metadata": {},
   "outputs": [],
   "source": [
    "def export_frame(dataframe, filename):\n",
    "    dataframe.to_csv(filename, sep=';', encoding='utf-8', index=False, float_format='%.0f')"
   ]
  },
  {
   "cell_type": "code",
   "execution_count": null,
   "metadata": {},
   "outputs": [],
   "source": [
    "train = clean_comments(train)\n",
    "test = clean_comments(test)"
   ]
  },
  {
   "cell_type": "code",
   "execution_count": null,
   "metadata": {},
   "outputs": [],
   "source": [
    "train.head(5)"
   ]
  },
  {
   "cell_type": "code",
   "execution_count": null,
   "metadata": {},
   "outputs": [],
   "source": [
    "mapping = {'neutral': 0, 'positive': 1, 'negative': 2}\n",
    "train = train.replace({'Category': mapping})\n",
    "test = test.replace({'Category': mapping})"
   ]
  },
  {
   "cell_type": "code",
   "execution_count": null,
   "metadata": {},
   "outputs": [],
   "source": [
    "train_exp = train[['Id','Category', 'cleaned_string']]\n",
    "test_exp = test[['Id', 'cleaned_string']]"
   ]
  },
  {
   "cell_type": "code",
   "execution_count": null,
   "metadata": {},
   "outputs": [],
   "source": [
    "train_exp.head(5)"
   ]
  },
  {
   "cell_type": "code",
   "execution_count": null,
   "metadata": {},
   "outputs": [],
   "source": [
    "test_exp.head(5)"
   ]
  },
  {
   "cell_type": "code",
   "execution_count": null,
   "metadata": {},
   "outputs": [],
   "source": [
    "#test_exp.Id = test_exp.Id.astype(object, copy=False)"
   ]
  },
  {
   "cell_type": "code",
   "execution_count": null,
   "metadata": {},
   "outputs": [],
   "source": [
    "export_frame(train_exp, \"train_clean.csv\")\n",
    "export_frame(test_exp, \"test_clean.csv\")"
   ]
  },
  {
   "cell_type": "code",
   "execution_count": null,
   "metadata": {},
   "outputs": [],
   "source": [
    "train_exp.dtypes"
   ]
  }
 ],
 "metadata": {
  "kernelspec": {
   "display_name": "Python 3",
   "language": "python",
   "name": "python3"
  },
  "language_info": {
   "codemirror_mode": {
    "name": "ipython",
    "version": 3
   },
   "file_extension": ".py",
   "mimetype": "text/x-python",
   "name": "python",
   "nbconvert_exporter": "python",
   "pygments_lexer": "ipython3",
   "version": "3.7.0"
  }
 },
 "nbformat": 4,
 "nbformat_minor": 2
}
